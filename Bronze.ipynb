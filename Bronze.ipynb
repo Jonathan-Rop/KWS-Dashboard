{
 "cells": [
  {
   "cell_type": "markdown",
   "id": "24d23155",
   "metadata": {},
   "source": [
    "Bronze Notebook is stage one of ingesting data before building the pipeline\n",
    "(a Kind of rough work of understadin the nature of data under examination)\n",
    "\n",
    "In this case;\n",
    "\n",
    "1. Import the data\n",
    "2. Understand what each row and coumn represent\n",
    "3. Identify rows and columns to be worked on after trancate\n",
    "4. Allign the data set answering workflow deliverables"
   ]
  },
  {
   "cell_type": "code",
   "execution_count": 2,
   "id": "27cb9e28",
   "metadata": {},
   "outputs": [],
   "source": [
    "from pyspark.sql import SparkSession\n",
    "spark = SparkSession.builder \\\n",
    "    .appName(\"Bronze\") \\\n",
    "    .getOrCreate()\n"
   ]
  },
  {
   "cell_type": "code",
   "execution_count": 11,
   "id": "4206ba2a",
   "metadata": {},
   "outputs": [],
   "source": [
    "df = spark.read.option(\"header\", \"true\").csv(r\"C:\\Users\\JKR\\Documents\\Project-csv\\KWS-dataset.csv\")"
   ]
  },
  {
   "cell_type": "code",
   "execution_count": 12,
   "id": "08ac497c",
   "metadata": {},
   "outputs": [
    {
     "data": {
      "text/plain": [
       "DataFrame[summary: string, DATE: string, CITIZEN A: string, CITIZEN C: string, RESIDENT A: string, RESIDENT C: string, NON RESIDENT A: string, NON RESIDENT C: string, KSH -TOTAL : string, USD -TOTAL: string]"
      ]
     },
     "execution_count": 12,
     "metadata": {},
     "output_type": "execute_result"
    }
   ],
   "source": [
    "df.describe()"
   ]
  },
  {
   "cell_type": "code",
   "execution_count": 13,
   "id": "91e6dae4",
   "metadata": {},
   "outputs": [
    {
     "name": "stdout",
     "output_type": "stream",
     "text": [
      "+---------+---------+---------+----------+----------+--------------+--------------+-----------+----------+\n",
      "|     DATE|CITIZEN A|CITIZEN C|RESIDENT A|RESIDENT C|NON RESIDENT A|NON RESIDENT C|KSH -TOTAL |USD -TOTAL|\n",
      "+---------+---------+---------+----------+----------+--------------+--------------+-----------+----------+\n",
      "| 1-Jun-25|    211.0|     68.0|    3279.0|    1005.0|         597.0|          88.0| 7631940.00|   2618.26|\n",
      "| 2-Jun-25|    132.0|     51.0|    2609.0|    1790.0|         525.0|          23.0| 6530855.00|   1154.46|\n",
      "| 3-Jun-25|     11.0|      4.0|     540.0|     588.0|         316.0|          24.0| 2603930.00|   3753.03|\n",
      "| 4-Jun-25|     19.0|     16.0|     639.0|     970.0|         314.0|          73.0| 3477805.00|   2211.73|\n",
      "| 5-Jun-25|     34.0|        6|     694.0|    1430.0|         371.0|          58.0| 3977830.00|   2992.95|\n",
      "| 6-Jun-25|    147.0|     34.0|    2133.0|    2621.0|         501.0|          29.0| 6441310.00|   3295.03|\n",
      "| 7-Jun-25|    129.0|     35.0|    2484.0|    1288.0|         727.0|          94.0| 7842890.00|   6033.45|\n",
      "| 8-Jun-25|    131.0|     32.0|    2068.0|     752.0|         611.0|          72.0| 7125785.00|      2038|\n",
      "| 9-Jun-25|     13.0|      9.0|     558.0|     269.0|         463.0|          36.0| 4566470.00|      1682|\n",
      "|10-Jun-25|     23.0|        8|     584.0|     610.0|         465.0|          52.0| 4273065.00|   1817.26|\n",
      "|11-Jun-25|      8.0|        0|     594.0|     685.0|         329.0|          56.0| 3349530.00|   1890.89|\n",
      "|12-Jun-25|     21.0|     10.0|     734.0|     790.0|         478.0|          60.0| 3932695.00|   2366.71|\n",
      "|13-Jun-25|     35.0|       11|    1104.0|    2907.0|         459.0|          73.0| 5416075.00|      1729|\n",
      "|14-Jun-25|     65.0|     14.0|    2090.0|    1281.0|         691.0|          36.0| 7386145.00|   2683.25|\n",
      "|15-Jun-25|    139.0|     54.0|    2141.0|     945.0|         703.0|          41.0| 7726815.00|   3203.70|\n",
      "|16-Jun-25|     13.0|        9|     572.0|     365.0|         536.0|          57.0| 4676595.00|   1648.57|\n",
      "|17-Jun-25|     30.0|      8.0|     832.0|     773.0|         490.0|          28.0| 4650455.00|      2479|\n",
      "|18-Jun-25|     17.0|      2.0|     565.0|     591.0|         370.0|          44.0| 3252200.00|      1520|\n",
      "|19-Jun-25|     10.0|        6|     637.0|     636.0|         282.0|          49.0| 2030915.00|      4035|\n",
      "|20-Jun-25|     18.0|      1.0|    1303.0|     711.0|         520.0|          82.0| 7331320.00| 3723.6440|\n",
      "+---------+---------+---------+----------+----------+--------------+--------------+-----------+----------+\n",
      "only showing top 20 rows\n"
     ]
    }
   ],
   "source": [
    "df.show()"
   ]
  },
  {
   "cell_type": "code",
   "execution_count": 14,
   "id": "1707956c",
   "metadata": {},
   "outputs": [
    {
     "data": {
      "text/plain": [
       "['DATE',\n",
       " 'CITIZEN A',\n",
       " 'CITIZEN C',\n",
       " 'RESIDENT A',\n",
       " 'RESIDENT C',\n",
       " 'NON RESIDENT A',\n",
       " 'NON RESIDENT C',\n",
       " 'KSH -TOTAL ',\n",
       " 'USD -TOTAL']"
      ]
     },
     "execution_count": 14,
     "metadata": {},
     "output_type": "execute_result"
    }
   ],
   "source": [
    "df.columns"
   ]
  },
  {
   "cell_type": "code",
   "execution_count": 15,
   "id": "d12a1f4e",
   "metadata": {},
   "outputs": [
    {
     "name": "stdout",
     "output_type": "stream",
     "text": [
      "root\n",
      " |-- DATE: string (nullable = true)\n",
      " |-- CITIZEN A: string (nullable = true)\n",
      " |-- CITIZEN C: string (nullable = true)\n",
      " |-- RESIDENT A: string (nullable = true)\n",
      " |-- RESIDENT C: string (nullable = true)\n",
      " |-- NON RESIDENT A: string (nullable = true)\n",
      " |-- NON RESIDENT C: string (nullable = true)\n",
      " |-- KSH -TOTAL : string (nullable = true)\n",
      " |-- USD -TOTAL: string (nullable = true)\n",
      "\n"
     ]
    }
   ],
   "source": [
    "df.printSchema()"
   ]
  },
  {
   "cell_type": "code",
   "execution_count": null,
   "id": "1911b5ff",
   "metadata": {},
   "outputs": [],
   "source": []
  }
 ],
 "metadata": {
  "kernelspec": {
   "display_name": "Python 3",
   "language": "python",
   "name": "python3"
  },
  "language_info": {
   "codemirror_mode": {
    "name": "ipython",
    "version": 3
   },
   "file_extension": ".py",
   "mimetype": "text/x-python",
   "name": "python",
   "nbconvert_exporter": "python",
   "pygments_lexer": "ipython3",
   "version": "3.13.4"
  }
 },
 "nbformat": 4,
 "nbformat_minor": 5
}
