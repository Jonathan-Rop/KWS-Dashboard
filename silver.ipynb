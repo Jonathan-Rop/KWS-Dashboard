{
 "cells": [
  {
   "cell_type": "code",
   "execution_count": 20,
   "id": "be89da49",
   "metadata": {},
   "outputs": [],
   "source": [
    "import pandas as pd\n",
    "import matplotlib.pyplot as plt\n",
    "from pyspark.sql import SparkSession\n",
    "spark = SparkSession.builder \\\n",
    "    .appName(\"silver\") \\\n",
    "    .getOrCreate()\n",
    "\n"
   ]
  },
  {
   "cell_type": "code",
   "execution_count": 21,
   "id": "a41e25f1",
   "metadata": {},
   "outputs": [],
   "source": [
    "df = spark.read.option(\"header\", \"true\").csv(r\"C:\\Users\\JKR\\Documents\\Project-csv\\KWS-dataset.csv\")"
   ]
  },
  {
   "cell_type": "markdown",
   "id": "a719eb6f",
   "metadata": {},
   "source": [
    "### Transformations\n",
    "\n",
    "\n",
    "### Answering the guideline (Check PDF - workflow)\n",
    "### it is evident that the required transformations conducted be:\n",
    "\n",
    "- Check if Null values Exist\n",
    "- Required columns and Rows\n",
    "- Droping duplicates and filling in null values\n",
    "\n"
   ]
  },
  {
   "cell_type": "code",
   "execution_count": 22,
   "id": "c2c54aa8",
   "metadata": {},
   "outputs": [
    {
     "data": {
      "text/plain": [
       "<bound method DataFrame.drop_duplicates of DataFrame[DATE: string, CITIZEN A: string, CITIZEN C: string, RESIDENT A: string, RESIDENT C: string, NON RESIDENT A: string, NON RESIDENT C: string, KSH -TOTAL : string, USD -TOTAL: string]>"
      ]
     },
     "execution_count": 22,
     "metadata": {},
     "output_type": "execute_result"
    }
   ],
   "source": [
    "df.drop_duplicates"
   ]
  },
  {
   "cell_type": "code",
   "execution_count": 23,
   "id": "7b2ed7c6",
   "metadata": {},
   "outputs": [
    {
     "name": "stdout",
     "output_type": "stream",
     "text": [
      "+---------+---------+---------+----------+----------+--------------+--------------+-----------+----------+\n",
      "|     DATE|CITIZEN A|CITIZEN C|RESIDENT A|RESIDENT C|NON RESIDENT A|NON RESIDENT C|KSH -TOTAL |USD -TOTAL|\n",
      "+---------+---------+---------+----------+----------+--------------+--------------+-----------+----------+\n",
      "| 1-Jun-25|    211.0|     68.0|    3279.0|    1005.0|         597.0|          88.0| 7631940.00|   2618.26|\n",
      "| 2-Jun-25|    132.0|     51.0|    2609.0|    1790.0|         525.0|          23.0| 6530855.00|   1154.46|\n",
      "| 3-Jun-25|     11.0|      4.0|     540.0|     588.0|         316.0|          24.0| 2603930.00|   3753.03|\n",
      "| 4-Jun-25|     19.0|     16.0|     639.0|     970.0|         314.0|          73.0| 3477805.00|   2211.73|\n",
      "| 5-Jun-25|     34.0|        6|     694.0|    1430.0|         371.0|          58.0| 3977830.00|   2992.95|\n",
      "| 6-Jun-25|    147.0|     34.0|    2133.0|    2621.0|         501.0|          29.0| 6441310.00|   3295.03|\n",
      "| 7-Jun-25|    129.0|     35.0|    2484.0|    1288.0|         727.0|          94.0| 7842890.00|   6033.45|\n",
      "| 8-Jun-25|    131.0|     32.0|    2068.0|     752.0|         611.0|          72.0| 7125785.00|      2038|\n",
      "| 9-Jun-25|     13.0|      9.0|     558.0|     269.0|         463.0|          36.0| 4566470.00|      1682|\n",
      "|10-Jun-25|     23.0|        8|     584.0|     610.0|         465.0|          52.0| 4273065.00|   1817.26|\n",
      "|11-Jun-25|      8.0|        0|     594.0|     685.0|         329.0|          56.0| 3349530.00|   1890.89|\n",
      "|12-Jun-25|     21.0|     10.0|     734.0|     790.0|         478.0|          60.0| 3932695.00|   2366.71|\n",
      "|13-Jun-25|     35.0|       11|    1104.0|    2907.0|         459.0|          73.0| 5416075.00|      1729|\n",
      "|14-Jun-25|     65.0|     14.0|    2090.0|    1281.0|         691.0|          36.0| 7386145.00|   2683.25|\n",
      "|15-Jun-25|    139.0|     54.0|    2141.0|     945.0|         703.0|          41.0| 7726815.00|   3203.70|\n",
      "|16-Jun-25|     13.0|        9|     572.0|     365.0|         536.0|          57.0| 4676595.00|   1648.57|\n",
      "|17-Jun-25|     30.0|      8.0|     832.0|     773.0|         490.0|          28.0| 4650455.00|      2479|\n",
      "|18-Jun-25|     17.0|      2.0|     565.0|     591.0|         370.0|          44.0| 3252200.00|      1520|\n",
      "|19-Jun-25|     10.0|        6|     637.0|     636.0|         282.0|          49.0| 2030915.00|      4035|\n",
      "|20-Jun-25|     18.0|      1.0|    1303.0|     711.0|         520.0|          82.0| 7331320.00| 3723.6440|\n",
      "+---------+---------+---------+----------+----------+--------------+--------------+-----------+----------+\n",
      "only showing top 20 rows\n"
     ]
    }
   ],
   "source": [
    "df.show()"
   ]
  },
  {
   "cell_type": "code",
   "execution_count": 24,
   "id": "53372658",
   "metadata": {},
   "outputs": [
    {
     "name": "stdout",
     "output_type": "stream",
     "text": [
      "+---------+---------+---------+----------+----------+--------------+--------------+-----------+----------+\n",
      "|     DATE|CITIZEN_A|CITIZEN C|RESIDENT A|RESIDENT C|NON RESIDENT A|NON RESIDENT C|KSH -TOTAL |USD -TOTAL|\n",
      "+---------+---------+---------+----------+----------+--------------+--------------+-----------+----------+\n",
      "| 1-Jun-25|    211.0|     68.0|    3279.0|    1005.0|         597.0|          88.0| 7631940.00|   2618.26|\n",
      "| 2-Jun-25|    132.0|     51.0|    2609.0|    1790.0|         525.0|          23.0| 6530855.00|   1154.46|\n",
      "| 3-Jun-25|     11.0|      4.0|     540.0|     588.0|         316.0|          24.0| 2603930.00|   3753.03|\n",
      "| 4-Jun-25|     19.0|     16.0|     639.0|     970.0|         314.0|          73.0| 3477805.00|   2211.73|\n",
      "| 5-Jun-25|     34.0|        6|     694.0|    1430.0|         371.0|          58.0| 3977830.00|   2992.95|\n",
      "| 6-Jun-25|    147.0|     34.0|    2133.0|    2621.0|         501.0|          29.0| 6441310.00|   3295.03|\n",
      "| 7-Jun-25|    129.0|     35.0|    2484.0|    1288.0|         727.0|          94.0| 7842890.00|   6033.45|\n",
      "| 8-Jun-25|    131.0|     32.0|    2068.0|     752.0|         611.0|          72.0| 7125785.00|      2038|\n",
      "| 9-Jun-25|     13.0|      9.0|     558.0|     269.0|         463.0|          36.0| 4566470.00|      1682|\n",
      "|10-Jun-25|     23.0|        8|     584.0|     610.0|         465.0|          52.0| 4273065.00|   1817.26|\n",
      "|11-Jun-25|      8.0|        0|     594.0|     685.0|         329.0|          56.0| 3349530.00|   1890.89|\n",
      "|12-Jun-25|     21.0|     10.0|     734.0|     790.0|         478.0|          60.0| 3932695.00|   2366.71|\n",
      "|13-Jun-25|     35.0|       11|    1104.0|    2907.0|         459.0|          73.0| 5416075.00|      1729|\n",
      "|14-Jun-25|     65.0|     14.0|    2090.0|    1281.0|         691.0|          36.0| 7386145.00|   2683.25|\n",
      "|15-Jun-25|    139.0|     54.0|    2141.0|     945.0|         703.0|          41.0| 7726815.00|   3203.70|\n",
      "|16-Jun-25|     13.0|        9|     572.0|     365.0|         536.0|          57.0| 4676595.00|   1648.57|\n",
      "|17-Jun-25|     30.0|      8.0|     832.0|     773.0|         490.0|          28.0| 4650455.00|      2479|\n",
      "|18-Jun-25|     17.0|      2.0|     565.0|     591.0|         370.0|          44.0| 3252200.00|      1520|\n",
      "|19-Jun-25|     10.0|        6|     637.0|     636.0|         282.0|          49.0| 2030915.00|      4035|\n",
      "|20-Jun-25|     18.0|      1.0|    1303.0|     711.0|         520.0|          82.0| 7331320.00| 3723.6440|\n",
      "+---------+---------+---------+----------+----------+--------------+--------------+-----------+----------+\n",
      "only showing top 20 rows\n"
     ]
    }
   ],
   "source": [
    "df.withColumnRenamed('CITIZEN A', 'CITIZEN_A').show()"
   ]
  },
  {
   "cell_type": "code",
   "execution_count": 25,
   "id": "9e0f009d",
   "metadata": {},
   "outputs": [],
   "source": [
    "for colname in df.columns:\n",
    "    df = df.withColumnRenamed(colname, colname.strip().replace(\" \", \"_\").replace(\"-\", \"_\").upper())\n"
   ]
  },
  {
   "cell_type": "code",
   "execution_count": 26,
   "id": "b70421b1",
   "metadata": {},
   "outputs": [
    {
     "data": {
      "text/plain": [
       "['DATE',\n",
       " 'CITIZEN_A',\n",
       " 'CITIZEN_C',\n",
       " 'RESIDENT_A',\n",
       " 'RESIDENT_C',\n",
       " 'NON_RESIDENT_A',\n",
       " 'NON_RESIDENT_C',\n",
       " 'KSH__TOTAL',\n",
       " 'USD__TOTAL']"
      ]
     },
     "execution_count": 26,
     "metadata": {},
     "output_type": "execute_result"
    }
   ],
   "source": [
    "df.columns"
   ]
  },
  {
   "cell_type": "markdown",
   "id": "4747b4dd",
   "metadata": {},
   "source": [
    "### Handling Missing Values"
   ]
  },
  {
   "cell_type": "code",
   "execution_count": 27,
   "id": "99d4e7bd",
   "metadata": {},
   "outputs": [
    {
     "name": "stdout",
     "output_type": "stream",
     "text": [
      "+---------+---------+---------+----------+----------+--------------+--------------+----------+----------+\n",
      "|     DATE|CITIZEN_A|CITIZEN_C|RESIDENT_A|RESIDENT_C|NON_RESIDENT_A|NON_RESIDENT_C|KSH__TOTAL|USD__TOTAL|\n",
      "+---------+---------+---------+----------+----------+--------------+--------------+----------+----------+\n",
      "| 1-Jun-25|    211.0|     68.0|    3279.0|    1005.0|         597.0|          88.0|7631940.00|   2618.26|\n",
      "| 2-Jun-25|    132.0|     51.0|    2609.0|    1790.0|         525.0|          23.0|6530855.00|   1154.46|\n",
      "| 3-Jun-25|     11.0|      4.0|     540.0|     588.0|         316.0|          24.0|2603930.00|   3753.03|\n",
      "| 4-Jun-25|     19.0|     16.0|     639.0|     970.0|         314.0|          73.0|3477805.00|   2211.73|\n",
      "| 5-Jun-25|     34.0|        6|     694.0|    1430.0|         371.0|          58.0|3977830.00|   2992.95|\n",
      "| 6-Jun-25|    147.0|     34.0|    2133.0|    2621.0|         501.0|          29.0|6441310.00|   3295.03|\n",
      "| 7-Jun-25|    129.0|     35.0|    2484.0|    1288.0|         727.0|          94.0|7842890.00|   6033.45|\n",
      "| 8-Jun-25|    131.0|     32.0|    2068.0|     752.0|         611.0|          72.0|7125785.00|      2038|\n",
      "| 9-Jun-25|     13.0|      9.0|     558.0|     269.0|         463.0|          36.0|4566470.00|      1682|\n",
      "|10-Jun-25|     23.0|        8|     584.0|     610.0|         465.0|          52.0|4273065.00|   1817.26|\n",
      "|11-Jun-25|      8.0|        0|     594.0|     685.0|         329.0|          56.0|3349530.00|   1890.89|\n",
      "|12-Jun-25|     21.0|     10.0|     734.0|     790.0|         478.0|          60.0|3932695.00|   2366.71|\n",
      "|13-Jun-25|     35.0|       11|    1104.0|    2907.0|         459.0|          73.0|5416075.00|      1729|\n",
      "|14-Jun-25|     65.0|     14.0|    2090.0|    1281.0|         691.0|          36.0|7386145.00|   2683.25|\n",
      "|15-Jun-25|    139.0|     54.0|    2141.0|     945.0|         703.0|          41.0|7726815.00|   3203.70|\n",
      "|16-Jun-25|     13.0|        9|     572.0|     365.0|         536.0|          57.0|4676595.00|   1648.57|\n",
      "|17-Jun-25|     30.0|      8.0|     832.0|     773.0|         490.0|          28.0|4650455.00|      2479|\n",
      "|18-Jun-25|     17.0|      2.0|     565.0|     591.0|         370.0|          44.0|3252200.00|      1520|\n",
      "|19-Jun-25|     10.0|        6|     637.0|     636.0|         282.0|          49.0|2030915.00|      4035|\n",
      "|20-Jun-25|     18.0|      1.0|    1303.0|     711.0|         520.0|          82.0|7331320.00| 3723.6440|\n",
      "+---------+---------+---------+----------+----------+--------------+--------------+----------+----------+\n",
      "only showing top 20 rows\n"
     ]
    }
   ],
   "source": [
    "df.na.drop(how='any', subset= (['CITIZEN_A'])).show()"
   ]
  },
  {
   "cell_type": "markdown",
   "id": "09eb3e9e",
   "metadata": {},
   "source": [
    "### Aggregate Functions\n",
    "### - Get USD Total\n",
    "### - Get KSH totals"
   ]
  },
  {
   "cell_type": "code",
   "execution_count": 28,
   "id": "3a29d601",
   "metadata": {},
   "outputs": [
    {
     "name": "stdout",
     "output_type": "stream",
     "text": [
      "+----------+----------+\n",
      "|KSH__TOTAL|USD__TOTAL|\n",
      "+----------+----------+\n",
      "|6530855.00|   1154.46|\n",
      "|7125785.00|      2038|\n",
      "|7631940.00|   2618.26|\n",
      "|4566470.00|      1682|\n",
      "| 4145300.0|      3054|\n",
      "|3252200.00|      1520|\n",
      "|7842890.00|   6033.45|\n",
      "|5416075.00|      1729|\n",
      "|4650455.00|      2479|\n",
      "| 8244030.0| 2258.7240|\n",
      "|2603930.00|   3753.03|\n",
      "| 5673800.0| 2138.6440|\n",
      "|3349530.00|   1890.89|\n",
      "| 5192135.0| 2369.0140|\n",
      "|3477805.00|   2211.73|\n",
      "|7331320.00| 3723.6440|\n",
      "|3932695.00|   2366.71|\n",
      "| 8640085.0| 4084.7160|\n",
      "| 5998370.0| 2519.9300|\n",
      "| 8382935.0| 5378.4100|\n",
      "+----------+----------+\n",
      "only showing top 20 rows\n"
     ]
    }
   ],
   "source": [
    "df.groupBy('KSH__TOTAL', 'USD__TOTAL').sum().show()"
   ]
  },
  {
   "cell_type": "markdown",
   "id": "de21dda7",
   "metadata": {},
   "source": [
    "### KPI metrics\n",
    "1.\tShowcase total number of visitors coming to the park \n",
    "2.\tNumber of children, adults visiting the park (Foreign and Citizens)\n",
    "3.\tTotal revenue collected (Both in USD and KES)\n",
    "4.\tBusiest Day in the park\n",
    "5.  Revenue collection per day\n",
    "6.  Average income per week\n"
   ]
  },
  {
   "cell_type": "code",
   "execution_count": 40,
   "id": "f373aa05",
   "metadata": {},
   "outputs": [
    {
     "data": {
      "text/plain": [
       "['DATE',\n",
       " 'CITIZEN_A',\n",
       " 'CITIZEN_C',\n",
       " 'RESIDENT_A',\n",
       " 'RESIDENT_C',\n",
       " 'NON_RESIDENT_A',\n",
       " 'NON_RESIDENT_C',\n",
       " 'KSH__TOTAL',\n",
       " 'USD__TOTAL']"
      ]
     },
     "execution_count": 40,
     "metadata": {},
     "output_type": "execute_result"
    }
   ],
   "source": [
    "df.columns"
   ]
  },
  {
   "cell_type": "code",
   "execution_count": 45,
   "id": "51a977a5",
   "metadata": {},
   "outputs": [
    {
     "data": {
      "text/plain": [
       "<bound method DataFrame.printSchema of DataFrame[DATE: string, CITIZEN_A: string, CITIZEN_C: string, RESIDENT_A: string, RESIDENT_C: string, NON_RESIDENT_A: string, NON_RESIDENT_C: string, KSH__TOTAL: string, USD__TOTAL: string]>"
      ]
     },
     "execution_count": 45,
     "metadata": {},
     "output_type": "execute_result"
    }
   ],
   "source": [
    "df.printSchema"
   ]
  },
  {
   "cell_type": "code",
   "execution_count": 43,
   "id": "0bf3fc89",
   "metadata": {},
   "outputs": [],
   "source": [
    "df = df.toDF(*[c.replace(\" \", \"_\").replace(\"-\", \"_\") for c in df.columns])"
   ]
  },
  {
   "cell_type": "code",
   "execution_count": 44,
   "id": "50f127d2",
   "metadata": {},
   "outputs": [
    {
     "name": "stdout",
     "output_type": "stream",
     "text": [
      "root\n",
      " |-- DATE: string (nullable = true)\n",
      " |-- CITIZEN_A: string (nullable = true)\n",
      " |-- CITIZEN_C: string (nullable = true)\n",
      " |-- RESIDENT_A: string (nullable = true)\n",
      " |-- RESIDENT_C: string (nullable = true)\n",
      " |-- NON_RESIDENT_A: string (nullable = true)\n",
      " |-- NON_RESIDENT_C: string (nullable = true)\n",
      " |-- KSH__TOTAL: string (nullable = true)\n",
      " |-- USD__TOTAL: string (nullable = true)\n",
      "\n"
     ]
    }
   ],
   "source": [
    "df.printSchema()"
   ]
  },
  {
   "cell_type": "markdown",
   "id": "930a8024",
   "metadata": {},
   "source": [
    "### Changing the schema from string to Integers"
   ]
  },
  {
   "cell_type": "code",
   "execution_count": null,
   "id": "a7a07944",
   "metadata": {},
   "outputs": [],
   "source": [
    "from pyspark.sql.functions import col\n",
    "from pyspark.sql.types import DoubleType\n",
    "\n",
    "numeric_columns = [\n",
    "    \"CITIZEN_A\", \"CITIZEN_C\", \n",
    "    \"RESIDENT_A\", \"RESIDENT_C\", \n",
    "    \"NON_RESIDENT_A\", \"NON_RESIDENT_C\", \n",
    "    \"KSH__TOTAL\", \"USD__TOTAL\"\n",
    "]\n",
    "\n",
    "for column in numeric_columns:\n",
    "    df = df.withColumn(column, col(column).cast(DoubleType()))\n"
   ]
  },
  {
   "cell_type": "markdown",
   "id": "3b7d9566",
   "metadata": {},
   "source": [
    "### Total Number of visitors"
   ]
  },
  {
   "cell_type": "code",
   "execution_count": 49,
   "id": "6f51c383",
   "metadata": {},
   "outputs": [
    {
     "name": "stdout",
     "output_type": "stream",
     "text": [
      "+--------------+\n",
      "|TOTAL_VISITORS|\n",
      "+--------------+\n",
      "|       88307.0|\n",
      "+--------------+\n",
      "\n"
     ]
    }
   ],
   "source": [
    "from pyspark.sql.functions import col, sum\n",
    "\n",
    "df = df.withColumn(\"TOTAL_VISITORS\", \n",
    "    col(\"CITIZEN_A\") + col(\"CITIZEN_C\") + \n",
    "    col(\"RESIDENT_A\") + col(\"RESIDENT_C\") + \n",
    "    col(\"NON_RESIDENT_A\") + col(\"NON_RESIDENT_C\"))\n",
    "\n",
    "df.agg(sum(\"TOTAL_VISITORS\").alias(\"TOTAL_VISITORS\")).show()\n",
    "\n"
   ]
  },
  {
   "cell_type": "code",
   "execution_count": 51,
   "id": "3e6d40a0",
   "metadata": {},
   "outputs": [
    {
     "name": "stdout",
     "output_type": "stream",
     "text": [
      "root\n",
      " |-- DATE: string (nullable = true)\n",
      " |-- CITIZEN_A: double (nullable = true)\n",
      " |-- CITIZEN_C: double (nullable = true)\n",
      " |-- RESIDENT_A: double (nullable = true)\n",
      " |-- RESIDENT_C: double (nullable = true)\n",
      " |-- NON_RESIDENT_A: double (nullable = true)\n",
      " |-- NON_RESIDENT_C: double (nullable = true)\n",
      " |-- KSH__TOTAL: double (nullable = true)\n",
      " |-- USD__TOTAL: double (nullable = true)\n",
      " |-- TOTAL_VISITORS: double (nullable = true)\n",
      "\n"
     ]
    }
   ],
   "source": [
    "df.printSchema()"
   ]
  },
  {
   "cell_type": "markdown",
   "id": "5324c082",
   "metadata": {},
   "source": [
    "### Total Number of adults and Children"
   ]
  },
  {
   "cell_type": "code",
   "execution_count": 60,
   "id": "f568477c",
   "metadata": {},
   "outputs": [
    {
     "name": "stdout",
     "output_type": "stream",
     "text": [
      "+----------------------+--------------------+\n",
      "|TOTAL_CITIZEN_CHILDREN|TOTAL_CITIZEN_ADULTS|\n",
      "+----------------------+--------------------+\n",
      "|                 496.0|              1675.0|\n",
      "+----------------------+--------------------+\n",
      "\n"
     ]
    }
   ],
   "source": [
    "from pyspark.sql.functions import col, sum\n",
    "\n",
    "\n",
    "df.agg(\n",
    "    sum('CITIZEN_C').alias('TOTAL_CITIZEN_CHILDREN'),\n",
    "    sum('CITIZEN_A').alias('TOTAL_CITIZEN_ADULTS')\n",
    " ) .show()\n"
   ]
  },
  {
   "cell_type": "markdown",
   "id": "8e9116a0",
   "metadata": {},
   "source": [
    "### Busiest Record"
   ]
  },
  {
   "cell_type": "code",
   "execution_count": 61,
   "id": "4cca1487",
   "metadata": {},
   "outputs": [
    {
     "name": "stdout",
     "output_type": "stream",
     "text": [
      "+---------+---------+---------+----------+----------+--------------+--------------+----------+----------+--------------+\n",
      "|     DATE|CITIZEN_A|CITIZEN_C|RESIDENT_A|RESIDENT_C|NON_RESIDENT_A|NON_RESIDENT_C|KSH__TOTAL|USD__TOTAL|TOTAL_VISITORS|\n",
      "+---------+---------+---------+----------+----------+--------------+--------------+----------+----------+--------------+\n",
      "| 1-Jun-25|    211.0|     68.0|    3279.0|    1005.0|         597.0|          88.0| 7631940.0|   2618.26|        5248.0|\n",
      "| 2-Jun-25|    132.0|     51.0|    2609.0|    1790.0|         525.0|          23.0| 6530855.0|   1154.46|        5130.0|\n",
      "| 3-Jun-25|     11.0|      4.0|     540.0|     588.0|         316.0|          24.0| 2603930.0|   3753.03|        1483.0|\n",
      "| 4-Jun-25|     19.0|     16.0|     639.0|     970.0|         314.0|          73.0| 3477805.0|   2211.73|        2031.0|\n",
      "| 5-Jun-25|     34.0|      6.0|     694.0|    1430.0|         371.0|          58.0| 3977830.0|   2992.95|        2593.0|\n",
      "| 6-Jun-25|    147.0|     34.0|    2133.0|    2621.0|         501.0|          29.0| 6441310.0|   3295.03|        5465.0|\n",
      "| 7-Jun-25|    129.0|     35.0|    2484.0|    1288.0|         727.0|          94.0| 7842890.0|   6033.45|        4757.0|\n",
      "| 8-Jun-25|    131.0|     32.0|    2068.0|     752.0|         611.0|          72.0| 7125785.0|    2038.0|        3666.0|\n",
      "| 9-Jun-25|     13.0|      9.0|     558.0|     269.0|         463.0|          36.0| 4566470.0|    1682.0|        1348.0|\n",
      "|10-Jun-25|     23.0|      8.0|     584.0|     610.0|         465.0|          52.0| 4273065.0|   1817.26|        1742.0|\n",
      "|11-Jun-25|      8.0|      0.0|     594.0|     685.0|         329.0|          56.0| 3349530.0|   1890.89|        1672.0|\n",
      "|12-Jun-25|     21.0|     10.0|     734.0|     790.0|         478.0|          60.0| 3932695.0|   2366.71|        2093.0|\n",
      "|13-Jun-25|     35.0|     11.0|    1104.0|    2907.0|         459.0|          73.0| 5416075.0|    1729.0|        4589.0|\n",
      "|14-Jun-25|     65.0|     14.0|    2090.0|    1281.0|         691.0|          36.0| 7386145.0|   2683.25|        4177.0|\n",
      "|15-Jun-25|    139.0|     54.0|    2141.0|     945.0|         703.0|          41.0| 7726815.0|    3203.7|        4023.0|\n",
      "|16-Jun-25|     13.0|      9.0|     572.0|     365.0|         536.0|          57.0| 4676595.0|   1648.57|        1552.0|\n",
      "|17-Jun-25|     30.0|      8.0|     832.0|     773.0|         490.0|          28.0| 4650455.0|    2479.0|        2161.0|\n",
      "|18-Jun-25|     17.0|      2.0|     565.0|     591.0|         370.0|          44.0| 3252200.0|    1520.0|        1589.0|\n",
      "|19-Jun-25|     10.0|      6.0|     637.0|     636.0|         282.0|          49.0| 2030915.0|    4035.0|        1620.0|\n",
      "|20-Jun-25|     18.0|      1.0|    1303.0|     711.0|         520.0|          82.0| 7331320.0|  3723.644|        2635.0|\n",
      "+---------+---------+---------+----------+----------+--------------+--------------+----------+----------+--------------+\n",
      "only showing top 20 rows\n"
     ]
    }
   ],
   "source": [
    "df.show()"
   ]
  },
  {
   "cell_type": "code",
   "execution_count": 66,
   "id": "8d512e94",
   "metadata": {},
   "outputs": [
    {
     "name": "stdout",
     "output_type": "stream",
     "text": [
      "+------------------+\n",
      "|AVG_TOTAL_VISITORS|\n",
      "+------------------+\n",
      "|2943.5666666666666|\n",
      "+------------------+\n",
      "\n"
     ]
    }
   ],
   "source": [
    "from pyspark.sql.functions import avg, col\n",
    "\n",
    "df.agg(avg(col('TOTAL_VISITORS')).alias(\"AVG_TOTAL_VISITORS\")).show()\n"
   ]
  },
  {
   "cell_type": "code",
   "execution_count": 67,
   "id": "162bea6f",
   "metadata": {},
   "outputs": [],
   "source": [
    "df.plot\n",
    "plt.show()"
   ]
  },
  {
   "cell_type": "code",
   "execution_count": null,
   "id": "be866623",
   "metadata": {},
   "outputs": [],
   "source": []
  }
 ],
 "metadata": {
  "kernelspec": {
   "display_name": "Python 3",
   "language": "python",
   "name": "python3"
  },
  "language_info": {
   "codemirror_mode": {
    "name": "ipython",
    "version": 3
   },
   "file_extension": ".py",
   "mimetype": "text/x-python",
   "name": "python",
   "nbconvert_exporter": "python",
   "pygments_lexer": "ipython3",
   "version": "3.13.4"
  }
 },
 "nbformat": 4,
 "nbformat_minor": 5
}
