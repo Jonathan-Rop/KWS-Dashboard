{
 "cells": [
  {
   "cell_type": "code",
   "execution_count": 21,
   "id": "be89da49",
   "metadata": {},
   "outputs": [],
   "source": [
    "import pandas as pd\n",
    "import matplotlib.pyplot as plt"
   ]
  },
  {
   "cell_type": "code",
   "execution_count": null,
   "id": "293ede69",
   "metadata": {},
   "outputs": [
    {
     "data": {
      "text/plain": [
       "<function pyspark.sql.session.SparkSession.createDataFrame(self, data: Union[ForwardRef('RDD[Any]'), Iterable[Any], ForwardRef('PandasDataFrameLike'), ForwardRef('ArrayLike'), ForwardRef('pa.Table')], schema: Union[pyspark.sql.types.AtomicType, pyspark.sql.types.StructType, str, NoneType] = None, samplingRatio: Optional[float] = None, verifySchema: bool = True) -> pyspark.sql.dataframe.DataFrame>"
      ]
     },
     "execution_count": 1,
     "metadata": {},
     "output_type": "execute_result"
    }
   ],
   "source": [
    "from pyspark.sql import SparkSession\n",
    "spark = SparkSession.builder \\\n",
    "    .appName(\"silver\") \\\n",
    "    .getOrCreate()"
   ]
  },
  {
   "cell_type": "code",
   "execution_count": 5,
   "id": "a41e25f1",
   "metadata": {},
   "outputs": [],
   "source": [
    "df = spark.read.csv(r\"C:\\Users\\JKR\\Documents\\Project-csv\\jkr.csv\")"
   ]
  },
  {
   "cell_type": "code",
   "execution_count": 6,
   "id": "7fe65d16",
   "metadata": {},
   "outputs": [
    {
     "name": "stdout",
     "output_type": "stream",
     "text": [
      "+--------------------+--------------------+-----+----+--------+----+------------+-----+----------+-----+-----------+---------+\n",
      "|                 _c0|                 _c1|  _c2| _c3|     _c4| _c5|         _c6|  _c7|       _c8|  _c9|       _c10|     _c11|\n",
      "+--------------------+--------------------+-----+----+--------+----+------------+-----+----------+-----+-----------+---------+\n",
      "|Watamu Marine Par...|                NULL| NULL|NULL|    NULL|NULL|        NULL| NULL|      NULL| NULL|       NULL|     NULL|\n",
      "|              Report|                NULL| NULL|NULL|    NULL|NULL|        NULL| NULL|      NULL| NULL|       NULL|     NULL|\n",
      "|                NULL|Total Expected Vi...| NULL|NULL|    NULL|NULL|        NULL| NULL|T/VISITORS|T/VEH|       NULL|     NULL|\n",
      "|                DATE|             CITIZEN| NULL|NULL|RESIDENT|NULL|NON-RESIDENT| NULL|      NULL| NULL|        KES|      USD|\n",
      "|                NULL|                   A|    C|   S|       A|   C|           A|    C|      NULL| NULL|       NULL|     NULL|\n",
      "|            1-Jul-25|               318.0|119.0|   0|    12.0|   2|       335.0| 49.0|     835.0| 70.0| 1714845.00| 704.3780|\n",
      "|            2-Jul-25|               329.0| 51.0|   0|    14.0| 5.0|       280.0| 62.0|     741.0| 98.0| 1573440.00|1061.1460|\n",
      "|            3-Jul-25|               431.0| 57.0|  86|     9.0| 5.0|       345.0| 79.0|    1012.0|119.0| 2059325.00|   963.00|\n",
      "|            4-Jul-25|               572.0| 76.0| 172|    10.0| 3.0|       427.0| 67.0|    1327.0|115.0| 2054360.00|2076.7400|\n",
      "|            5-Jul-25|               653.0| 83.0|   0|    30.0| 5.0|       468.0| 79.0|    1318.0|190.0| 2637555.00|  1550.00|\n",
      "|            6-Jul-25|               727.0|151.0|  40|    70.0| 9.0|       372.0| 86.0|    1455.0|222.0| 2396830.00|1581.2080|\n",
      "|            7-Jul-25|               335.0|111.0|   0|    11.0| 1.0|       252.0| 40.0|     750.0| 38.0|  889140.00|1584.0720|\n",
      "|            8-Jul-25|               163.0| 17.0|  70|      15| 6.0|       202.0| 31.0|     504.0| 38.0|  970500.00|        0|\n",
      "|              Totals|              3528.0|665.0| 368|   171.0|36.0|      2681.0|493.0|    7942.0|890.0|14295995.00|9520.5440|\n",
      "+--------------------+--------------------+-----+----+--------+----+------------+-----+----------+-----+-----------+---------+\n",
      "\n"
     ]
    }
   ],
   "source": [
    "df.show()"
   ]
  },
  {
   "cell_type": "markdown",
   "id": "a719eb6f",
   "metadata": {},
   "source": [
    "Transformations\n",
    "\n",
    "\n",
    "Answering the guideline (Check word document - workflow)\n",
    "it is evident that the required transformations conducted be:\n",
    "\n",
    "- Droping column 4 , 9 and 10\n",
    "- Droping Rows (1 -3)\n",
    "- Renaming columns for ease understanding  na labling\n",
    "- Droping duplicates and filling in null values\n",
    "\n"
   ]
  },
  {
   "cell_type": "code",
   "execution_count": 7,
   "id": "c2c54aa8",
   "metadata": {},
   "outputs": [
    {
     "data": {
      "text/plain": [
       "<bound method DataFrame.drop_duplicates of DataFrame[_c0: string, _c1: string, _c2: string, _c3: string, _c4: string, _c5: string, _c6: string, _c7: string, _c8: string, _c9: string, _c10: string, _c11: string]>"
      ]
     },
     "execution_count": 7,
     "metadata": {},
     "output_type": "execute_result"
    }
   ],
   "source": [
    "df.drop_duplicates"
   ]
  },
  {
   "cell_type": "code",
   "execution_count": 10,
   "id": "7b2ed7c6",
   "metadata": {},
   "outputs": [
    {
     "name": "stdout",
     "output_type": "stream",
     "text": [
      "+--------------------+--------------------+-----+----+--------+----+------------+-----+----------+-----+-----------+---------+\n",
      "|                 _c0|                 _c1|  _c2| _c3|     _c4| _c5|         _c6|  _c7|       _c8|  _c9|       _c10|     _c11|\n",
      "+--------------------+--------------------+-----+----+--------+----+------------+-----+----------+-----+-----------+---------+\n",
      "|Watamu Marine Par...|                NULL| NULL|NULL|    NULL|NULL|        NULL| NULL|      NULL| NULL|       NULL|     NULL|\n",
      "|              Report|                NULL| NULL|NULL|    NULL|NULL|        NULL| NULL|      NULL| NULL|       NULL|     NULL|\n",
      "|                NULL|Total Expected Vi...| NULL|NULL|    NULL|NULL|        NULL| NULL|T/VISITORS|T/VEH|       NULL|     NULL|\n",
      "|                DATE|             CITIZEN| NULL|NULL|RESIDENT|NULL|NON-RESIDENT| NULL|      NULL| NULL|        KES|      USD|\n",
      "|                NULL|                   A|    C|   S|       A|   C|           A|    C|      NULL| NULL|       NULL|     NULL|\n",
      "|            1-Jul-25|               318.0|119.0|   0|    12.0|   2|       335.0| 49.0|     835.0| 70.0| 1714845.00| 704.3780|\n",
      "|            2-Jul-25|               329.0| 51.0|   0|    14.0| 5.0|       280.0| 62.0|     741.0| 98.0| 1573440.00|1061.1460|\n",
      "|            3-Jul-25|               431.0| 57.0|  86|     9.0| 5.0|       345.0| 79.0|    1012.0|119.0| 2059325.00|   963.00|\n",
      "|            4-Jul-25|               572.0| 76.0| 172|    10.0| 3.0|       427.0| 67.0|    1327.0|115.0| 2054360.00|2076.7400|\n",
      "|            5-Jul-25|               653.0| 83.0|   0|    30.0| 5.0|       468.0| 79.0|    1318.0|190.0| 2637555.00|  1550.00|\n",
      "|            6-Jul-25|               727.0|151.0|  40|    70.0| 9.0|       372.0| 86.0|    1455.0|222.0| 2396830.00|1581.2080|\n",
      "|            7-Jul-25|               335.0|111.0|   0|    11.0| 1.0|       252.0| 40.0|     750.0| 38.0|  889140.00|1584.0720|\n",
      "|            8-Jul-25|               163.0| 17.0|  70|      15| 6.0|       202.0| 31.0|     504.0| 38.0|  970500.00|        0|\n",
      "|              Totals|              3528.0|665.0| 368|   171.0|36.0|      2681.0|493.0|    7942.0|890.0|14295995.00|9520.5440|\n",
      "+--------------------+--------------------+-----+----+--------+----+------------+-----+----------+-----+-----------+---------+\n",
      "\n"
     ]
    }
   ],
   "source": [
    "df.show()"
   ]
  },
  {
   "cell_type": "code",
   "execution_count": 11,
   "id": "14ff8e4d",
   "metadata": {},
   "outputs": [
    {
     "data": {
      "text/plain": [
       "<bound method DataFrame.describe of DataFrame[_c0: string, _c1: string, _c2: string, _c3: string, _c4: string, _c5: string, _c6: string, _c7: string, _c8: string, _c9: string, _c10: string, _c11: string]>"
      ]
     },
     "execution_count": 11,
     "metadata": {},
     "output_type": "execute_result"
    }
   ],
   "source": [
    "df.describe"
   ]
  },
  {
   "cell_type": "markdown",
   "id": "eb9e36e0",
   "metadata": {},
   "source": [
    "- Merge the data frame to one single column\n",
    "- change date format\n"
   ]
  },
  {
   "cell_type": "code",
   "execution_count": null,
   "id": "62a27cfc",
   "metadata": {},
   "outputs": [
    {
     "data": {
      "text/plain": [
       "['_c0',\n",
       " '_c1',\n",
       " '_c2',\n",
       " '_c3',\n",
       " '_c4',\n",
       " '_c5',\n",
       " '_c6',\n",
       " '_c7',\n",
       " '_c8',\n",
       " '_c9',\n",
       " '_c10',\n",
       " '_c11']"
      ]
     },
     "execution_count": 17,
     "metadata": {},
     "output_type": "execute_result"
    }
   ],
   "source": [
    "df.columns\n",
    "\n",
    "\n",
    "df.withColumnRenamed "
   ]
  },
  {
   "cell_type": "markdown",
   "id": "182232ef",
   "metadata": {},
   "source": [
    "Drop Columns"
   ]
  },
  {
   "cell_type": "code",
   "execution_count": null,
   "id": "a4704cb0",
   "metadata": {},
   "outputs": [
    {
     "data": {
      "text/plain": [
       "14"
      ]
     },
     "execution_count": 18,
     "metadata": {},
     "output_type": "execute_result"
    }
   ],
   "source": [
    "df.count()\n"
   ]
  },
  {
   "cell_type": "code",
   "execution_count": 20,
   "id": "c8259093",
   "metadata": {},
   "outputs": [
    {
     "data": {
      "text/plain": [
       "GroupedData[grouping expressions: [], value: [_c0: string, _c1: string ... 10 more fields], type: GroupBy]"
      ]
     },
     "execution_count": 20,
     "metadata": {},
     "output_type": "execute_result"
    }
   ],
   "source": [
    "df.groupBy ()"
   ]
  },
  {
   "cell_type": "code",
   "execution_count": null,
   "id": "4773daca",
   "metadata": {},
   "outputs": [],
   "source": [
    "df.dropC"
   ]
  }
 ],
 "metadata": {
  "kernelspec": {
   "display_name": "Python 3",
   "language": "python",
   "name": "python3"
  },
  "language_info": {
   "codemirror_mode": {
    "name": "ipython",
    "version": 3
   },
   "file_extension": ".py",
   "mimetype": "text/x-python",
   "name": "python",
   "nbconvert_exporter": "python",
   "pygments_lexer": "ipython3",
   "version": "3.13.4"
  }
 },
 "nbformat": 4,
 "nbformat_minor": 5
}
