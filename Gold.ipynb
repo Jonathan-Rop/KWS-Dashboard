{
 "cells": [
  {
   "cell_type": "markdown",
   "id": "bd233a3d",
   "metadata": {},
   "source": [
    "### With this cleaned data\n",
    "### Delierables would be:\n",
    "\n",
    "- Connect the dataframe to a postgresql (Data warehouse)\n",
    "- Create a databse to "
   ]
  },
  {
   "cell_type": "code",
   "execution_count": 1,
   "id": "117dfebe",
   "metadata": {},
   "outputs": [],
   "source": [
    "import pandas as pd\n",
    "import matplotlib.pyplot as plt\n",
    "import psycopg2\n",
    "from sqlalchemy import create_engine"
   ]
  },
  {
   "cell_type": "code",
   "execution_count": null,
   "id": "2dce6c43",
   "metadata": {},
   "outputs": [],
   "source": []
  },
  {
   "cell_type": "code",
   "execution_count": null,
   "id": "dfbeb414",
   "metadata": {},
   "outputs": [],
   "source": [
    "dbname = \"KWS\"\n",
    "user = \"postgres\"\n",
    "password = \"5687\"\n",
    "host = \"localhost\"\n",
    "port = \"5432\"  \n",
    "\n",
    "\n",
    "engine = create_engine(f'postgresql://{user}:{password}@{host}:{port}/{dbname}')\n",
    "try:\n",
    "    with engine.connect() as conn:\n",
    "        print(\"connection successful\")\n",
    "except Exception as e:\n",
    "    print(\"connection failed\", e)\n",
    "     "
   ]
  }
 ],
 "metadata": {
  "kernelspec": {
   "display_name": "Python 3",
   "language": "python",
   "name": "python3"
  },
  "language_info": {
   "codemirror_mode": {
    "name": "ipython",
    "version": 3
   },
   "file_extension": ".py",
   "mimetype": "text/x-python",
   "name": "python",
   "nbconvert_exporter": "python",
   "pygments_lexer": "ipython3",
   "version": "3.13.4"
  }
 },
 "nbformat": 4,
 "nbformat_minor": 5
}
