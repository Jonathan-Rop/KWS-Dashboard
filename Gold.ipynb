{
 "cells": [
  {
   "cell_type": "markdown",
   "id": "bd233a3d",
   "metadata": {},
   "source": [
    "With this cleaned data\n",
    "\n",
    "Delierables would be:\n",
    "\n",
    "- Connect the dataframe to a postgresql (Data warehouse)\n",
    "- Create a databse to "
   ]
  }
 ],
 "metadata": {
  "language_info": {
   "name": "python"
  }
 },
 "nbformat": 4,
 "nbformat_minor": 5
}
